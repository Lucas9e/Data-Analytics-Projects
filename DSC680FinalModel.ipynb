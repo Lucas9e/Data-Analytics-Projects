{
 "cells": [
  {
   "cell_type": "code",
   "execution_count": 2,
   "id": "ea6bc3e8",
   "metadata": {},
   "outputs": [],
   "source": [
    "from __future__ import print_function, division\n",
    "\n",
    "import matplotlib.pyplot as plt\n",
    "%matplotlib inline\n",
    "\n",
    "import warnings\n",
    "\n",
    "warnings.filterwarnings('ignore', category=FutureWarning)\n",
    "\n",
    "import numpy as np\n",
    "import pandas as pd"
   ]
  },
  {
   "cell_type": "code",
   "execution_count": 3,
   "id": "9ac32e03",
   "metadata": {},
   "outputs": [],
   "source": [
    "#removing columns and rows with null/NaN values\n",
    "\n",
    "df = pd.read_csv('project2data.csv')"
   ]
  },
  {
   "cell_type": "code",
   "execution_count": 4,
   "id": "b6d8d9a6",
   "metadata": {},
   "outputs": [
    {
     "data": {
      "text/html": [
       "<div>\n",
       "<style scoped>\n",
       "    .dataframe tbody tr th:only-of-type {\n",
       "        vertical-align: middle;\n",
       "    }\n",
       "\n",
       "    .dataframe tbody tr th {\n",
       "        vertical-align: top;\n",
       "    }\n",
       "\n",
       "    .dataframe thead th {\n",
       "        text-align: right;\n",
       "    }\n",
       "</style>\n",
       "<table border=\"1\" class=\"dataframe\">\n",
       "  <thead>\n",
       "    <tr style=\"text-align: right;\">\n",
       "      <th></th>\n",
       "      <th>age</th>\n",
       "      <th>sex</th>\n",
       "      <th>Chest Pain type = Value 1: typical angina\\nValue 2: atypical angina\\nValue 3: non-anginal pain\\nValue 4: asymptomatic chest pain type</th>\n",
       "      <th>resting_blood_pressure</th>\n",
       "      <th>cholesterol</th>\n",
       "      <th>Fasting_Blood_Sugar_Under-120=True(1)</th>\n",
       "      <th>RestingECG</th>\n",
       "      <th>MaxHeartRate</th>\n",
       "      <th>ExercisedInduced_1=Y,0=N</th>\n",
       "      <th>Death</th>\n",
       "    </tr>\n",
       "  </thead>\n",
       "  <tbody>\n",
       "    <tr>\n",
       "      <th>0</th>\n",
       "      <td>63</td>\n",
       "      <td>1</td>\n",
       "      <td>3</td>\n",
       "      <td>145</td>\n",
       "      <td>233</td>\n",
       "      <td>1</td>\n",
       "      <td>0</td>\n",
       "      <td>150</td>\n",
       "      <td>0</td>\n",
       "      <td>1</td>\n",
       "    </tr>\n",
       "    <tr>\n",
       "      <th>1</th>\n",
       "      <td>37</td>\n",
       "      <td>1</td>\n",
       "      <td>2</td>\n",
       "      <td>130</td>\n",
       "      <td>250</td>\n",
       "      <td>0</td>\n",
       "      <td>1</td>\n",
       "      <td>187</td>\n",
       "      <td>0</td>\n",
       "      <td>1</td>\n",
       "    </tr>\n",
       "    <tr>\n",
       "      <th>2</th>\n",
       "      <td>41</td>\n",
       "      <td>0</td>\n",
       "      <td>1</td>\n",
       "      <td>130</td>\n",
       "      <td>204</td>\n",
       "      <td>0</td>\n",
       "      <td>0</td>\n",
       "      <td>172</td>\n",
       "      <td>0</td>\n",
       "      <td>1</td>\n",
       "    </tr>\n",
       "    <tr>\n",
       "      <th>3</th>\n",
       "      <td>56</td>\n",
       "      <td>1</td>\n",
       "      <td>1</td>\n",
       "      <td>120</td>\n",
       "      <td>236</td>\n",
       "      <td>0</td>\n",
       "      <td>1</td>\n",
       "      <td>178</td>\n",
       "      <td>0</td>\n",
       "      <td>1</td>\n",
       "    </tr>\n",
       "    <tr>\n",
       "      <th>4</th>\n",
       "      <td>57</td>\n",
       "      <td>0</td>\n",
       "      <td>0</td>\n",
       "      <td>120</td>\n",
       "      <td>354</td>\n",
       "      <td>0</td>\n",
       "      <td>1</td>\n",
       "      <td>163</td>\n",
       "      <td>1</td>\n",
       "      <td>1</td>\n",
       "    </tr>\n",
       "  </tbody>\n",
       "</table>\n",
       "</div>"
      ],
      "text/plain": [
       "   age  sex  \\\n",
       "0   63    1   \n",
       "1   37    1   \n",
       "2   41    0   \n",
       "3   56    1   \n",
       "4   57    0   \n",
       "\n",
       "   Chest Pain type = Value 1: typical angina\\nValue 2: atypical angina\\nValue 3: non-anginal pain\\nValue 4: asymptomatic chest pain type  \\\n",
       "0                                                  3                                                                                       \n",
       "1                                                  2                                                                                       \n",
       "2                                                  1                                                                                       \n",
       "3                                                  1                                                                                       \n",
       "4                                                  0                                                                                       \n",
       "\n",
       "   resting_blood_pressure   cholesterol  \\\n",
       "0                      145          233   \n",
       "1                      130          250   \n",
       "2                      130          204   \n",
       "3                      120          236   \n",
       "4                      120          354   \n",
       "\n",
       "   Fasting_Blood_Sugar_Under-120=True(1)  RestingECG  MaxHeartRate  \\\n",
       "0                                      1           0           150   \n",
       "1                                      0           1           187   \n",
       "2                                      0           0           172   \n",
       "3                                      0           1           178   \n",
       "4                                      0           1           163   \n",
       "\n",
       "   ExercisedInduced_1=Y,0=N  Death  \n",
       "0                         0      1  \n",
       "1                         0      1  \n",
       "2                         0      1  \n",
       "3                         0      1  \n",
       "4                         1      1  "
      ]
     },
     "execution_count": 4,
     "metadata": {},
     "output_type": "execute_result"
    }
   ],
   "source": [
    "df.head()"
   ]
  },
  {
   "cell_type": "code",
   "execution_count": 5,
   "id": "25b9dc8b",
   "metadata": {},
   "outputs": [
    {
     "name": "stdout",
     "output_type": "stream",
     "text": [
      "count    303.000000\n",
      "mean       0.966997\n",
      "std        1.032052\n",
      "min        0.000000\n",
      "25%        0.000000\n",
      "50%        1.000000\n",
      "75%        2.000000\n",
      "max        3.000000\n",
      "Name: Chest Pain type = Value 1: typical angina\\nValue 2: atypical angina\\nValue 3: non-anginal pain\\nValue 4: asymptomatic chest pain type, dtype: float64\n"
     ]
    }
   ],
   "source": [
    "print(df['Chest Pain type = Value 1: typical angina\\nValue 2: atypical angina\\nValue 3: non-anginal pain\\nValue 4: asymptomatic chest pain type'].describe())"
   ]
  },
  {
   "cell_type": "code",
   "execution_count": 6,
   "id": "8a2343fe",
   "metadata": {},
   "outputs": [
    {
     "data": {
      "image/png": "[encoded data removed]",
      "text/plain": [
       "<Figure size 720x360 with 1 Axes>"
      ]
     },
     "metadata": {
      "needs_background": "light"
     },
     "output_type": "display_data"
    }
   ],
   "source": [
    "def log_transformation(df):\n",
    "    return df.apply(np.log1p)\n",
    "\n",
    "df['Chest Pain type = Value 1: typical angina\\nValue 2: atypical angina\\nValue 3: non-anginal pain\\nValue 4: asymptomatic chest pain type_log1p'] = log_transformation(df['Chest Pain type = Value 1: typical angina\\nValue 2: atypical angina\\nValue 3: non-anginal pain\\nValue 4: asymptomatic chest pain type'])\n",
    "\n",
    "plt.rcParams['figure.figsize'] = (10, 5)\n",
    "\n",
    "plt.hist(df['Chest Pain type = Value 1: typical angina\\nValue 2: atypical angina\\nValue 3: non-anginal pain\\nValue 4: asymptomatic chest pain type_log1p'], bins=40)\n",
    "plt.xlabel('Chest Pain type = Value 1: typical angina\\nValue 2: atypical angina\\nValue 3: non-anginal pain\\nValue 4: asymptomatic chest pain type_log1p', fontsize=20)\n",
    "plt.ylabel('Counts', fontsize=20)\n",
    "plt.tick_params(axis='both', labelsize=15)\n",
    "plt.show()"
   ]
  },
  {
   "cell_type": "code",
   "execution_count": 7,
   "id": "62583c75",
   "metadata": {},
   "outputs": [],
   "source": [
    "def log_transformation(df):\n",
    "    return df.apply(np.log1p)\n",
    "\n",
    "df['Chest Pain type = Value 1: typical angina\\nValue 2: atypical angina\\nValue 3: non-anginal pain\\nValue 4: asymptomatic chest pain type'] = log_transformation(df['Chest Pain type = Value 1: typical angina\\nValue 2: atypical angina\\nValue 3: non-anginal pain\\nValue 4: asymptomatic chest pain type'])"
   ]
  },
  {
   "cell_type": "code",
   "execution_count": 8,
   "id": "0b7df5bb",
   "metadata": {},
   "outputs": [],
   "source": [
    "import tensorflow as tf"
   ]
  },
  {
   "cell_type": "code",
   "execution_count": 9,
   "id": "4f40f030",
   "metadata": {},
   "outputs": [],
   "source": [
    "rng = np.random"
   ]
  },
  {
   "cell_type": "code",
   "execution_count": 10,
   "id": "9e4425e6",
   "metadata": {},
   "outputs": [
    {
     "data": {
      "text/plain": [
       "age                                                                                                                                              int64\n",
       "sex                                                                                                                                              int64\n",
       "Chest Pain type = Value 1: typical angina\\nValue 2: atypical angina\\nValue 3: non-anginal pain\\nValue 4: asymptomatic chest pain type          float64\n",
       "resting_blood_pressure                                                                                                                           int64\n",
       "cholesterol                                                                                                                                      int64\n",
       "Fasting_Blood_Sugar_Under-120=True(1)                                                                                                            int64\n",
       "RestingECG                                                                                                                                       int64\n",
       "MaxHeartRate                                                                                                                                     int64\n",
       "ExercisedInduced_1=Y,0=N                                                                                                                         int64\n",
       "Death                                                                                                                                            int64\n",
       "Chest Pain type = Value 1: typical angina\\nValue 2: atypical angina\\nValue 3: non-anginal pain\\nValue 4: asymptomatic chest pain type_log1p    float64\n",
       "dtype: object"
      ]
     },
     "execution_count": 10,
     "metadata": {},
     "output_type": "execute_result"
    }
   ],
   "source": [
    "df.dtypes"
   ]
  },
  {
   "cell_type": "code",
   "execution_count": 113,
   "id": "c72fd251",
   "metadata": {},
   "outputs": [
    {
     "data": {
      "text/plain": [
       "ORI                     object\n",
       "year                     int64\n",
       "department_name         object\n",
       "total_pop                int64\n",
       "homs_sum                 int64\n",
       "rape_sum                 int64\n",
       "rob_sum                  int64\n",
       "agg_ass_sum              int64\n",
       "violent_crime            int64\n",
       "months_reported          int64\n",
       "violent_per_100k         int64\n",
       "homs_per_100k            int32\n",
       "rape_per_100k            int64\n",
       "rob_per_100k             int64\n",
       "agg_ass_per_100k         int64\n",
       "source                 float64\n",
       "url                    float64\n",
       "Unnamed: 17            float64\n",
       "total_pop_log1p        float64\n",
       "homs_per_100k_log1p    float64\n",
       "dtype: object"
      ]
     },
     "execution_count": 113,
     "metadata": {},
     "output_type": "execute_result"
    }
   ],
   "source": [
    "# df['homs_per_100k'] = df['homs_per_100k'].astype(int)\n",
    "\n",
    "# df.dtypes"
   ]
  },
  {
   "cell_type": "code",
   "execution_count": 11,
   "id": "904ca78d",
   "metadata": {},
   "outputs": [],
   "source": [
    "value = df['Chest Pain type = Value 1: typical angina\\nValue 2: atypical angina\\nValue 3: non-anginal pain\\nValue 4: asymptomatic chest pain type'].values\n",
    "round = df['Death'].values"
   ]
  },
  {
   "cell_type": "code",
   "execution_count": 12,
   "id": "dd0f0cb5",
   "metadata": {},
   "outputs": [],
   "source": [
    "#hyperparameters\n",
    "learning_rate = .01\n",
    "training_epochs = 100\n",
    "\n",
    "#parameters for the script\n",
    "display_step = 50"
   ]
  },
  {
   "cell_type": "code",
   "execution_count": 13,
   "id": "1b799eca",
   "metadata": {},
   "outputs": [],
   "source": [
    "train_X = np.asarray(value)\n",
    "train_Y = np.asarray(round)"
   ]
  },
  {
   "cell_type": "code",
   "execution_count": 14,
   "id": "3d513fb6",
   "metadata": {},
   "outputs": [],
   "source": [
    "n_samples = train_X.shape[0]"
   ]
  },
  {
   "cell_type": "code",
   "execution_count": 15,
   "id": "173d386b",
   "metadata": {},
   "outputs": [],
   "source": [
    "n_samples = train_X.shape[0]"
   ]
  },
  {
   "cell_type": "code",
   "execution_count": 16,
   "id": "20003d7a",
   "metadata": {},
   "outputs": [
    {
     "name": "stdout",
     "output_type": "stream",
     "text": [
      "WARNING:tensorflow:From C:\\Users\\jptho\\AppData\\Roaming\\Python\\Python38\\site-packages\\tensorflow\\python\\compat\\v2_compat.py:96: disable_resource_variables (from tensorflow.python.ops.variable_scope) is deprecated and will be removed in a future version.\n",
      "Instructions for updating:\n",
      "non-resource variables are not supported in the long term\n"
     ]
    }
   ],
   "source": [
    "import tensorflow.compat.v1 as tf\n",
    "tf.disable_v2_behavior() "
   ]
  },
  {
   "cell_type": "code",
   "execution_count": 17,
   "id": "35b9ee98",
   "metadata": {},
   "outputs": [],
   "source": [
    "X = tf.placeholder('float')\n",
    "Y = tf.placeholder('float')"
   ]
  },
  {
   "cell_type": "code",
   "execution_count": 18,
   "id": "b4f61b62",
   "metadata": {},
   "outputs": [],
   "source": [
    "W = tf.Variable(rng.randn(), name='Weight')\n",
    "b = tf.Variable(rng.randn(), name='bias')"
   ]
  },
  {
   "cell_type": "code",
   "execution_count": 19,
   "id": "2ae8e455",
   "metadata": {},
   "outputs": [],
   "source": [
    "pred = tf.add(tf.multiply(X,W),b)"
   ]
  },
  {
   "cell_type": "code",
   "execution_count": 20,
   "id": "6247b753",
   "metadata": {},
   "outputs": [],
   "source": [
    "error = tf.reduce_sum(tf.pow(pred-Y,2))/(2*n_samples)"
   ]
  },
  {
   "cell_type": "code",
   "execution_count": 21,
   "id": "43644563",
   "metadata": {},
   "outputs": [],
   "source": [
    "import tensorflow.compat.v1 as tf\n",
    "tf.disable_v2_behavior()"
   ]
  },
  {
   "cell_type": "code",
   "execution_count": 22,
   "id": "6e58dd63",
   "metadata": {},
   "outputs": [],
   "source": [
    "optimizer =tf.train.GradientDescentOptimizer(learning_rate).minimize(error)"
   ]
  },
  {
   "cell_type": "code",
   "execution_count": 23,
   "id": "3b25bdf7",
   "metadata": {},
   "outputs": [],
   "source": [
    "init = tf.global_variables_initializer()"
   ]
  },
  {
   "cell_type": "code",
   "execution_count": 24,
   "id": "e917a736",
   "metadata": {},
   "outputs": [
    {
     "name": "stdout",
     "output_type": "stream",
     "text": [
      "Epoch: 0050 error= 0.120919362 W= 0.09590804 b= 0.36942214\n",
      "Epoch: 0100 error= 0.108583674 W= 0.1615597 b= 0.4095978\n",
      "Optimization Finished!\n",
      "Training error= 0.108583674 W= 0.1615597 b= 0.4095978 \n",
      "\n"
     ]
    }
   ],
   "source": [
    "# Start training\n",
    "with tf.Session() as sess:\n",
    "\n",
    "    # Run the initializer\n",
    "    sess.run(init)\n",
    "\n",
    "    # Fit all training data\n",
    "    for epoch in range(training_epochs):\n",
    "        for (x, y) in zip(train_X, train_Y):\n",
    "            sess.run(optimizer, feed_dict={X: x, Y: y})\n",
    "\n",
    "        # Display logs per epoch step\n",
    "        if (epoch+1) % display_step == 0:\n",
    "            c = sess.run(error, feed_dict={X: train_X, Y:train_Y})\n",
    "            print(\"Epoch:\", '%04d' % (epoch+1), \"error=\", \"{:.9f}\".format(c), \\\n",
    "                \"W=\", sess.run(W), \"b=\", sess.run(b))\n",
    "\n",
    "    print(\"Optimization Finished!\")\n",
    "    training_error = sess.run(error, feed_dict={X: train_X, Y: train_Y})\n",
    "    print(\"Training error=\", training_error, \"W=\", sess.run(W), \"b=\", sess.run(b), '\\n')"
   ]
  },
  {
   "cell_type": "code",
   "execution_count": 26,
   "id": "8fee5d2a",
   "metadata": {},
   "outputs": [
    {
     "ename": "RuntimeError",
     "evalue": "Attempted to use a closed Session.",
     "output_type": "error",
     "traceback": [
      "\u001b[1;31m---------------------------------------------------------------------------\u001b[0m",
      "\u001b[1;31mRuntimeError\u001b[0m                              Traceback (most recent call last)",
      "\u001b[1;32m<ipython-input-26-f1b9c0bd8620>\u001b[0m in \u001b[0;36m<module>\u001b[1;34m\u001b[0m\n\u001b[0;32m      1\u001b[0m \u001b[1;31m# Print Graph Display\u001b[0m\u001b[1;33m\u001b[0m\u001b[1;33m\u001b[0m\u001b[1;33m\u001b[0m\u001b[0m\n\u001b[0;32m      2\u001b[0m \u001b[0mplt\u001b[0m\u001b[1;33m.\u001b[0m\u001b[0mplot\u001b[0m\u001b[1;33m(\u001b[0m\u001b[0mtrain_X\u001b[0m\u001b[1;33m,\u001b[0m \u001b[0mtrain_Y\u001b[0m\u001b[1;33m,\u001b[0m \u001b[1;34m'ro'\u001b[0m\u001b[1;33m,\u001b[0m \u001b[0mlabel\u001b[0m\u001b[1;33m=\u001b[0m\u001b[1;34m'Original data'\u001b[0m\u001b[1;33m)\u001b[0m\u001b[1;33m\u001b[0m\u001b[1;33m\u001b[0m\u001b[0m\n\u001b[1;32m----> 3\u001b[1;33m \u001b[0mplt\u001b[0m\u001b[1;33m.\u001b[0m\u001b[0mplot\u001b[0m\u001b[1;33m(\u001b[0m\u001b[0mtrain_X\u001b[0m\u001b[1;33m,\u001b[0m \u001b[0msess\u001b[0m\u001b[1;33m.\u001b[0m\u001b[0mrun\u001b[0m\u001b[1;33m(\u001b[0m\u001b[0mW\u001b[0m\u001b[1;33m)\u001b[0m \u001b[1;33m*\u001b[0m \u001b[0mtrain_X\u001b[0m \u001b[1;33m+\u001b[0m \u001b[0msess\u001b[0m\u001b[1;33m.\u001b[0m\u001b[0mrun\u001b[0m\u001b[1;33m(\u001b[0m\u001b[0mb\u001b[0m\u001b[1;33m)\u001b[0m\u001b[1;33m,\u001b[0m \u001b[0mlabel\u001b[0m\u001b[1;33m=\u001b[0m\u001b[1;34m'Fitted line'\u001b[0m\u001b[1;33m)\u001b[0m\u001b[1;33m\u001b[0m\u001b[1;33m\u001b[0m\u001b[0m\n\u001b[0m\u001b[0;32m      4\u001b[0m \u001b[0mplt\u001b[0m\u001b[1;33m.\u001b[0m\u001b[0mlegend\u001b[0m\u001b[1;33m(\u001b[0m\u001b[1;33m)\u001b[0m\u001b[1;33m\u001b[0m\u001b[1;33m\u001b[0m\u001b[0m\n\u001b[0;32m      5\u001b[0m \u001b[0mplt\u001b[0m\u001b[1;33m.\u001b[0m\u001b[0mshow\u001b[0m\u001b[1;33m(\u001b[0m\u001b[1;33m)\u001b[0m\u001b[1;33m\u001b[0m\u001b[1;33m\u001b[0m\u001b[0m\n",
      "\u001b[1;32m~\\AppData\\Roaming\\Python\\Python38\\site-packages\\tensorflow\\python\\client\\session.py\u001b[0m in \u001b[0;36mrun\u001b[1;34m(self, fetches, feed_dict, options, run_metadata)\u001b[0m\n\u001b[0;32m    965\u001b[0m \u001b[1;33m\u001b[0m\u001b[0m\n\u001b[0;32m    966\u001b[0m     \u001b[1;32mtry\u001b[0m\u001b[1;33m:\u001b[0m\u001b[1;33m\u001b[0m\u001b[1;33m\u001b[0m\u001b[0m\n\u001b[1;32m--> 967\u001b[1;33m       result = self._run(None, fetches, feed_dict, options_ptr,\n\u001b[0m\u001b[0;32m    968\u001b[0m                          run_metadata_ptr)\n\u001b[0;32m    969\u001b[0m       \u001b[1;32mif\u001b[0m \u001b[0mrun_metadata\u001b[0m\u001b[1;33m:\u001b[0m\u001b[1;33m\u001b[0m\u001b[1;33m\u001b[0m\u001b[0m\n",
      "\u001b[1;32m~\\AppData\\Roaming\\Python\\Python38\\site-packages\\tensorflow\\python\\client\\session.py\u001b[0m in \u001b[0;36m_run\u001b[1;34m(self, handle, fetches, feed_dict, options, run_metadata)\u001b[0m\n\u001b[0;32m   1112\u001b[0m     \u001b[1;31m# Check session.\u001b[0m\u001b[1;33m\u001b[0m\u001b[1;33m\u001b[0m\u001b[1;33m\u001b[0m\u001b[0m\n\u001b[0;32m   1113\u001b[0m     \u001b[1;32mif\u001b[0m \u001b[0mself\u001b[0m\u001b[1;33m.\u001b[0m\u001b[0m_closed\u001b[0m\u001b[1;33m:\u001b[0m\u001b[1;33m\u001b[0m\u001b[1;33m\u001b[0m\u001b[0m\n\u001b[1;32m-> 1114\u001b[1;33m       \u001b[1;32mraise\u001b[0m \u001b[0mRuntimeError\u001b[0m\u001b[1;33m(\u001b[0m\u001b[1;34m'Attempted to use a closed Session.'\u001b[0m\u001b[1;33m)\u001b[0m\u001b[1;33m\u001b[0m\u001b[1;33m\u001b[0m\u001b[0m\n\u001b[0m\u001b[0;32m   1115\u001b[0m     \u001b[1;32mif\u001b[0m \u001b[0mself\u001b[0m\u001b[1;33m.\u001b[0m\u001b[0mgraph\u001b[0m\u001b[1;33m.\u001b[0m\u001b[0mversion\u001b[0m \u001b[1;33m==\u001b[0m \u001b[1;36m0\u001b[0m\u001b[1;33m:\u001b[0m\u001b[1;33m\u001b[0m\u001b[1;33m\u001b[0m\u001b[0m\n\u001b[0;32m   1116\u001b[0m       raise RuntimeError('The Session graph is empty.  Add operations to the '\n",
      "\u001b[1;31mRuntimeError\u001b[0m: Attempted to use a closed Session."
     ]
    },
    {
     "data": {
      "image/png": "[encoded data removed]",
      "text/plain": [
       "<Figure size 720x360 with 1 Axes>"
      ]
     },
     "metadata": {
      "needs_background": "light"
     },
     "output_type": "display_data"
    }
   ],
   "source": [
    "# Print Graph Display\n",
    "plt.plot(train_X, train_Y, 'ro', label='Original data')\n",
    "plt.plot(train_X, sess.run(W) * train_X + sess.run(b), label='Fitted line')\n",
    "plt.legend()\n",
    "plt.show()"
   ]
  },
  {
   "cell_type": "code",
   "execution_count": 25,
   "id": "cd5c2c8a",
   "metadata": {},
   "outputs": [],
   "source": [
    "test_X = np.asarray([2,4,6,8,10])\n",
    "test_Y = np.asarray([25,23,21,19,17])"
   ]
  },
  {
   "cell_type": "code",
   "execution_count": 26,
   "id": "c6d61eff",
   "metadata": {},
   "outputs": [
    {
     "data": {
      "text/html": [
       "<div>\n",
       "<style scoped>\n",
       "    .dataframe tbody tr th:only-of-type {\n",
       "        vertical-align: middle;\n",
       "    }\n",
       "\n",
       "    .dataframe tbody tr th {\n",
       "        vertical-align: top;\n",
       "    }\n",
       "\n",
       "    .dataframe thead th {\n",
       "        text-align: right;\n",
       "    }\n",
       "</style>\n",
       "<table border=\"1\" class=\"dataframe\">\n",
       "  <thead>\n",
       "    <tr style=\"text-align: right;\">\n",
       "      <th></th>\n",
       "      <th>Chest Pain type = Value 1: typical angina\\nValue 2: atypical angina\\nValue 3: non-anginal pain\\nValue 4: asymptomatic chest pain type</th>\n",
       "      <th>Death=Yes=1</th>\n",
       "    </tr>\n",
       "  </thead>\n",
       "  <tbody>\n",
       "    <tr>\n",
       "      <th>0</th>\n",
       "      <td>1.386294</td>\n",
       "      <td>1</td>\n",
       "    </tr>\n",
       "    <tr>\n",
       "      <th>1</th>\n",
       "      <td>1.098612</td>\n",
       "      <td>1</td>\n",
       "    </tr>\n",
       "    <tr>\n",
       "      <th>2</th>\n",
       "      <td>0.693147</td>\n",
       "      <td>1</td>\n",
       "    </tr>\n",
       "    <tr>\n",
       "      <th>3</th>\n",
       "      <td>0.693147</td>\n",
       "      <td>1</td>\n",
       "    </tr>\n",
       "    <tr>\n",
       "      <th>4</th>\n",
       "      <td>0.000000</td>\n",
       "      <td>1</td>\n",
       "    </tr>\n",
       "  </tbody>\n",
       "</table>\n",
       "</div>"
      ],
      "text/plain": [
       "   Chest Pain type = Value 1: typical angina\\nValue 2: atypical angina\\nValue 3: non-anginal pain\\nValue 4: asymptomatic chest pain type  \\\n",
       "0                                           1.386294                                                                                       \n",
       "1                                           1.098612                                                                                       \n",
       "2                                           0.693147                                                                                       \n",
       "3                                           0.693147                                                                                       \n",
       "4                                           0.000000                                                                                       \n",
       "\n",
       "   Death=Yes=1  \n",
       "0            1  \n",
       "1            1  \n",
       "2            1  \n",
       "3            1  \n",
       "4            1  "
      ]
     },
     "execution_count": 26,
     "metadata": {},
     "output_type": "execute_result"
    }
   ],
   "source": [
    "data = [df[\"Chest Pain type = Value 1: typical angina\\nValue 2: atypical angina\\nValue 3: non-anginal pain\\nValue 4: asymptomatic chest pain type\"], df[\"Death\"]]\n",
    "headers = [\"Chest Pain type = Value 1: typical angina\\nValue 2: atypical angina\\nValue 3: non-anginal pain\\nValue 4: asymptomatic chest pain type\", \"Death=Yes=1\"]\n",
    "df = pd.concat(data, axis=1, keys=headers)\n",
    "\n",
    "\n",
    "df.head(5)"
   ]
  },
  {
   "cell_type": "code",
   "execution_count": 27,
   "id": "f20bf761",
   "metadata": {},
   "outputs": [],
   "source": [
    "from sklearn.metrics import classification_report,confusion_matrix\n",
    "from sklearn.metrics import accuracy_score\n",
    "from sklearn.model_selection import train_test_split\n",
    "import sklearn\n",
    "from sklearn.neural_network import MLPClassifier"
   ]
  },
  {
   "cell_type": "code",
   "execution_count": 28,
   "id": "43f47c0a",
   "metadata": {},
   "outputs": [
    {
     "data": {
      "text/html": [
       "<div>\n",
       "<style scoped>\n",
       "    .dataframe tbody tr th:only-of-type {\n",
       "        vertical-align: middle;\n",
       "    }\n",
       "\n",
       "    .dataframe tbody tr th {\n",
       "        vertical-align: top;\n",
       "    }\n",
       "\n",
       "    .dataframe thead th {\n",
       "        text-align: right;\n",
       "    }\n",
       "</style>\n",
       "<table border=\"1\" class=\"dataframe\">\n",
       "  <thead>\n",
       "    <tr style=\"text-align: right;\">\n",
       "      <th></th>\n",
       "      <th>Chest Pain type = Value 1: typical angina\\nValue 2: atypical angina\\nValue 3: non-anginal pain\\nValue 4: asymptomatic chest pain type</th>\n",
       "      <th>Death=Yes=1</th>\n",
       "    </tr>\n",
       "  </thead>\n",
       "  <tbody>\n",
       "    <tr>\n",
       "      <th>0</th>\n",
       "      <td>1.386294</td>\n",
       "      <td>1</td>\n",
       "    </tr>\n",
       "    <tr>\n",
       "      <th>1</th>\n",
       "      <td>1.098612</td>\n",
       "      <td>1</td>\n",
       "    </tr>\n",
       "    <tr>\n",
       "      <th>2</th>\n",
       "      <td>0.693147</td>\n",
       "      <td>1</td>\n",
       "    </tr>\n",
       "    <tr>\n",
       "      <th>3</th>\n",
       "      <td>0.693147</td>\n",
       "      <td>1</td>\n",
       "    </tr>\n",
       "    <tr>\n",
       "      <th>4</th>\n",
       "      <td>0.000000</td>\n",
       "      <td>1</td>\n",
       "    </tr>\n",
       "  </tbody>\n",
       "</table>\n",
       "</div>"
      ],
      "text/plain": [
       "   Chest Pain type = Value 1: typical angina\\nValue 2: atypical angina\\nValue 3: non-anginal pain\\nValue 4: asymptomatic chest pain type  \\\n",
       "0                                           1.386294                                                                                       \n",
       "1                                           1.098612                                                                                       \n",
       "2                                           0.693147                                                                                       \n",
       "3                                           0.693147                                                                                       \n",
       "4                                           0.000000                                                                                       \n",
       "\n",
       "   Death=Yes=1  \n",
       "0            1  \n",
       "1            1  \n",
       "2            1  \n",
       "3            1  \n",
       "4            1  "
      ]
     },
     "execution_count": 28,
     "metadata": {},
     "output_type": "execute_result"
    }
   ],
   "source": [
    "df.head(5)"
   ]
  },
  {
   "cell_type": "code",
   "execution_count": 29,
   "id": "737ab7b6",
   "metadata": {},
   "outputs": [],
   "source": [
    "X= df.iloc[:,:-1]\n",
    "y= df.iloc[:,-1]\n",
    "X_train, X_test, y_train, y_test = train_test_split(X, y, test_size=0.30, random_state=0)\n",
    "\n",
    "# Apply the model to the training built in sklearn\n",
    "mlp = MLPClassifier(hidden_layer_sizes=(16,16,16), activation='relu', solver='adam', max_iter=1)"
   ]
  },
  {
   "cell_type": "code",
   "execution_count": 30,
   "id": "c13461eb",
   "metadata": {},
   "outputs": [
    {
     "name": "stderr",
     "output_type": "stream",
     "text": [
      "C:\\Users\\jptho\\AppData\\Roaming\\Python\\Python38\\site-packages\\sklearn\\neural_network\\_multilayer_perceptron.py:614: ConvergenceWarning: Stochastic Optimizer: Maximum iterations (1) reached and the optimization hasn't converged yet.\n",
      "  warnings.warn(\n"
     ]
    },
    {
     "data": {
      "text/plain": [
       "MLPClassifier(hidden_layer_sizes=(16, 16, 16), max_iter=1)"
      ]
     },
     "execution_count": 30,
     "metadata": {},
     "output_type": "execute_result"
    }
   ],
   "source": [
    "mlp.fit(X_train, y_train)\n"
   ]
  },
  {
   "cell_type": "code",
   "execution_count": 31,
   "id": "01b91194",
   "metadata": {},
   "outputs": [],
   "source": [
    "# predict the train model\n",
    "pred_train = mlp.predict(X_train)\n",
    "pred_test = mlp.predict(X_test)\n"
   ]
  },
  {
   "cell_type": "code",
   "execution_count": 32,
   "id": "ab6a2ec4",
   "metadata": {},
   "outputs": [
    {
     "name": "stdout",
     "output_type": "stream",
     "text": [
      "0.44339622641509435\n",
      "0.4835164835164835\n"
     ]
    }
   ],
   "source": [
    "#Check for accuracy\n",
    "print(accuracy_score(y_train, pred_train))\n",
    "print(accuracy_score(y_test, pred_test))"
   ]
  },
  {
   "cell_type": "code",
   "execution_count": 33,
   "id": "436c6166",
   "metadata": {},
   "outputs": [
    {
     "name": "stdout",
     "output_type": "stream",
     "text": [
      "[[ 94   0]\n",
      " [118   0]]\n",
      "              precision    recall  f1-score   support\n",
      "\n",
      "           0       0.44      1.00      0.61        94\n",
      "           1       0.00      0.00      0.00       118\n",
      "\n",
      "    accuracy                           0.44       212\n",
      "   macro avg       0.22      0.50      0.31       212\n",
      "weighted avg       0.20      0.44      0.27       212\n",
      "\n"
     ]
    },
    {
     "name": "stderr",
     "output_type": "stream",
     "text": [
      "C:\\Users\\jptho\\AppData\\Roaming\\Python\\Python38\\site-packages\\sklearn\\metrics\\_classification.py:1245: UndefinedMetricWarning: Precision and F-score are ill-defined and being set to 0.0 in labels with no predicted samples. Use `zero_division` parameter to control this behavior.\n",
      "  _warn_prf(average, modifier, msg_start, len(result))\n",
      "C:\\Users\\jptho\\AppData\\Roaming\\Python\\Python38\\site-packages\\sklearn\\metrics\\_classification.py:1245: UndefinedMetricWarning: Precision and F-score are ill-defined and being set to 0.0 in labels with no predicted samples. Use `zero_division` parameter to control this behavior.\n",
      "  _warn_prf(average, modifier, msg_start, len(result))\n",
      "C:\\Users\\jptho\\AppData\\Roaming\\Python\\Python38\\site-packages\\sklearn\\metrics\\_classification.py:1245: UndefinedMetricWarning: Precision and F-score are ill-defined and being set to 0.0 in labels with no predicted samples. Use `zero_division` parameter to control this behavior.\n",
      "  _warn_prf(average, modifier, msg_start, len(result))\n"
     ]
    }
   ],
   "source": [
    "#Check the confusion matrix and the classification report of the training set\n",
    "print(confusion_matrix(y_train,pred_train))\n",
    "# print precision,recall,f1-score,support\n",
    "print(classification_report(y_train,pred_train)) "
   ]
  },
  {
   "cell_type": "code",
   "execution_count": 34,
   "id": "ec2a9c68",
   "metadata": {},
   "outputs": [
    {
     "name": "stdout",
     "output_type": "stream",
     "text": [
      "[[44  0]\n",
      " [47  0]]\n",
      "              precision    recall  f1-score   support\n",
      "\n",
      "           0       0.48      1.00      0.65        44\n",
      "           1       0.00      0.00      0.00        47\n",
      "\n",
      "    accuracy                           0.48        91\n",
      "   macro avg       0.24      0.50      0.33        91\n",
      "weighted avg       0.23      0.48      0.32        91\n",
      "\n"
     ]
    },
    {
     "name": "stderr",
     "output_type": "stream",
     "text": [
      "C:\\Users\\jptho\\AppData\\Roaming\\Python\\Python38\\site-packages\\sklearn\\metrics\\_classification.py:1245: UndefinedMetricWarning: Precision and F-score are ill-defined and being set to 0.0 in labels with no predicted samples. Use `zero_division` parameter to control this behavior.\n",
      "  _warn_prf(average, modifier, msg_start, len(result))\n",
      "C:\\Users\\jptho\\AppData\\Roaming\\Python\\Python38\\site-packages\\sklearn\\metrics\\_classification.py:1245: UndefinedMetricWarning: Precision and F-score are ill-defined and being set to 0.0 in labels with no predicted samples. Use `zero_division` parameter to control this behavior.\n",
      "  _warn_prf(average, modifier, msg_start, len(result))\n",
      "C:\\Users\\jptho\\AppData\\Roaming\\Python\\Python38\\site-packages\\sklearn\\metrics\\_classification.py:1245: UndefinedMetricWarning: Precision and F-score are ill-defined and being set to 0.0 in labels with no predicted samples. Use `zero_division` parameter to control this behavior.\n",
      "  _warn_prf(average, modifier, msg_start, len(result))\n"
     ]
    }
   ],
   "source": [
    "#Check confusion matrix and the classification report of the test set\n",
    "print(confusion_matrix(y_test,pred_test))\n",
    "# print precision,recall,f1-score,support\n",
    "print(classification_report(y_test,pred_test))"
   ]
  },
  {
   "cell_type": "code",
   "execution_count": null,
   "id": "a8b4ca16",
   "metadata": {},
   "outputs": [],
   "source": []
  },
  {
   "cell_type": "code",
   "execution_count": null,
   "id": "4eb059a2",
   "metadata": {},
   "outputs": [],
   "source": []
  }
 ],
 "metadata": {
  "kernelspec": {
   "display_name": "Python 3",
   "language": "python",
   "name": "python3"
  },
  "language_info": {
   "codemirror_mode": {
    "name": "ipython",
    "version": 3
   },
   "file_extension": ".py",
   "mimetype": "text/x-python",
   "name": "python",
   "nbconvert_exporter": "python",
   "pygments_lexer": "ipython3",
   "version": "3.8.8"
  }
 },
 "nbformat": 4,
 "nbformat_minor": 5
}
